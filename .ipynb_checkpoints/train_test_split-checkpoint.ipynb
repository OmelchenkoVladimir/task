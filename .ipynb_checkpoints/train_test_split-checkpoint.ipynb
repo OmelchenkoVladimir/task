{
 "cells": [
  {
   "cell_type": "code",
   "execution_count": 1,
   "metadata": {
    "collapsed": true
   },
   "outputs": [],
   "source": [
    "import numpy as np\n",
    "import pandas as pd\n",
    "%matplotlib inline\n",
    "\n",
    "#мы не можем просто объединить все предложения и разбить на train и test, т. к. в этом случае мы используем \"недоступную\"\n",
    "#информацию (например, присутствие слова \"Чичиков\" укажет на принадлежность отрывка Гоголю).\n",
    "#Гоголь: 2,3,4,5 - в трейн; 1 - в тест\n",
    "#Гегель: 1,3,4,5 - в трейн, 2 - в тест\n",
    "data = pd.DataFrame(columns = ['sentence', 'author', 'number'])"
   ]
  },
  {
   "cell_type": "code",
   "execution_count": 2,
   "metadata": {
    "collapsed": false
   },
   "outputs": [],
   "source": [
    "with open(r'Gogol/Мёртвые души 1.txt', 'r') as f:\n",
    "    res = f.read()\n",
    "\n",
    "import re\n",
    "\n",
    "res = re.sub(r'\\[.*?\\]', '', res)\n",
    "res = res.replace(u'\\xa0', u' ')\n",
    "res = res.replace('\\n\\n\\n\\n', ' ')\n",
    "res = res.replace('\\n\\n', ' ')\n",
    "\n",
    "import nltk\n",
    "\n",
    "lst = nltk.sent_tokenize(res)\n",
    "df = pd.DataFrame({'sentence':lst, 'author':'Гоголь', 'number':1})\n",
    "data = data.append(df, ignore_index = True)"
   ]
  },
  {
   "cell_type": "code",
   "execution_count": 3,
   "metadata": {
    "collapsed": false
   },
   "outputs": [],
   "source": [
    "with open(r'Gogol/Вий 2.txt', 'r') as f:\n",
    "    res = f.read()\n",
    "\n",
    "res = re.sub(r'\\[.*?\\]', '', res)\n",
    "res = res.replace(u'\\xa0', u' ')\n",
    "res = res.replace('\\n', ' ')\n",
    "res = res.replace('\\t', '')\n",
    "\n",
    "lst = nltk.sent_tokenize(res)\n",
    "df = pd.DataFrame({'sentence':lst, 'author':'Гоголь', 'number':2})\n",
    "data = data.append(df, ignore_index = True)"
   ]
  },
  {
   "cell_type": "code",
   "execution_count": 4,
   "metadata": {
    "collapsed": false
   },
   "outputs": [],
   "source": [
    "with open(r'Gogol/Нос 3.txt', 'r') as f:\n",
    "    res = f.read()\n",
    "\n",
    "res = re.sub(r'\\[.*?\\]', '', res)\n",
    "res = res.replace(u'\\xa0', u' ')\n",
    "res = res.replace('\\n\\n', ' ')\n",
    "res = res.replace('\\n', '')\n",
    "res = res.replace('I', '') #номер главы\n",
    "\n",
    "lst = nltk.sent_tokenize(res)\n",
    "df = pd.DataFrame({'sentence':lst, 'author':'Гоголь', 'number':3})\n",
    "data = data.append(df, ignore_index = True)"
   ]
  },
  {
   "cell_type": "code",
   "execution_count": 5,
   "metadata": {
    "collapsed": false
   },
   "outputs": [],
   "source": [
    "with open(r'Gogol/Портрет 4.txt', 'r') as f:\n",
    "    res = f.read()\n",
    "\n",
    "res = res.replace('\\n', ' ')\n",
    "\n",
    "lst = nltk.sent_tokenize(res)\n",
    "df = pd.DataFrame({'sentence':lst, 'author':'Гоголь', 'number':4})\n",
    "data = data.append(df, ignore_index = True)"
   ]
  },
  {
   "cell_type": "code",
   "execution_count": 6,
   "metadata": {
    "collapsed": false
   },
   "outputs": [],
   "source": [
    "with open(r'Gogol/Вечера на хуторе близ Диканьки 5.txt', 'r') as f:\n",
    "    res = f.read()\n",
    "\n",
    "res = re.sub(r'\\[.*?\\]', '', res)\n",
    "res = res.replace(u'\\xa0', u' ')\n",
    "res = res.replace('\\n\\n', ' ')\n",
    "res = res.replace('\\n', '')\n",
    "res = res.replace('\\t', ' ')\n",
    "res = res.replace('I', '') #номер главы\n",
    "\n",
    "lst = nltk.sent_tokenize(res)\n",
    "df = pd.DataFrame({'sentence':lst, 'author':'Гоголь', 'number':5})\n",
    "data = data.append(df, ignore_index = True)"
   ]
  },
  {
   "cell_type": "code",
   "execution_count": 7,
   "metadata": {
    "collapsed": false
   },
   "outputs": [],
   "source": [
    "with open(r'Hegel/Феноменология духа 1.txt', 'r') as f:\n",
    "    res = f.read()\n",
    "\n",
    "res = re.sub('[^А-Яа-я .!?-]+', '', res)\n",
    "\n",
    "tmp = nltk.sent_tokenize(res)\n",
    "lst = [el for el in tmp if el != '.']\n",
    "df = pd.DataFrame({'sentence':lst, 'author':'Гегель', 'number':1})\n",
    "data = data.append(df, ignore_index = True)"
   ]
  },
  {
   "cell_type": "code",
   "execution_count": 8,
   "metadata": {
    "collapsed": false
   },
   "outputs": [],
   "source": [
    "with open(r'Hegel/Наука логики 2.txt', 'r') as f:\n",
    "    res = f.read()\n",
    "\n",
    "res = re.sub('[^А-Яа-я .!?-]+', '', res)\n",
    "\n",
    "tmp = nltk.sent_tokenize(res)\n",
    "lst = [el for el in tmp if el != '.']\n",
    "df = pd.DataFrame({'sentence':lst, 'author':'Гегель', 'number':2})\n",
    "data = data.append(df, ignore_index = True)"
   ]
  },
  {
   "cell_type": "code",
   "execution_count": 9,
   "metadata": {
    "collapsed": false
   },
   "outputs": [],
   "source": [
    "with open(r'Hegel/Философия права 3.txt', 'r') as f:\n",
    "    res = f.read()\n",
    "\n",
    "res = re.sub('[^А-Яа-я .!?-]+', '', res)\n",
    "\n",
    "tmp = nltk.sent_tokenize(res)\n",
    "lst = [el for el in tmp if el != '.']\n",
    "df = pd.DataFrame({'sentence':lst, 'author':'Гегель', 'number':3})\n",
    "data = data.append(df, ignore_index = True)"
   ]
  },
  {
   "cell_type": "code",
   "execution_count": 10,
   "metadata": {
    "collapsed": false
   },
   "outputs": [],
   "source": [
    "with open(r'Hegel/Лекции по истории философии 4.txt', 'r') as f:\n",
    "    res = f.read()\n",
    "\n",
    "res = re.sub(r'\\[.*?\\]', '', res)\n",
    "res = re.sub(r'\\(.*?\\)', '', res)\n",
    "res = re.sub('[^А-Яа-я .!?-]+', '', res)\n",
    "res = re.sub(r'[!?\\.]([А-Я])', r'. \\1', res)\n",
    "\n",
    "tmp = nltk.sent_tokenize(res)\n",
    "lst = [el for el in tmp if el != '.']\n",
    "df = pd.DataFrame({'sentence':lst, 'author':'Гегель', 'number':4})\n",
    "data = data.append(df, ignore_index = True)"
   ]
  },
  {
   "cell_type": "code",
   "execution_count": 11,
   "metadata": {
    "collapsed": false
   },
   "outputs": [],
   "source": [
    "with open(r'Hegel/Лекции по истории философии 5.txt', 'r') as f:\n",
    "    res = f.read()\n",
    "\n",
    "res = re.sub(r'\\[.*?\\]', '', res)\n",
    "res = re.sub(r'\\(.*?\\)', '', res)\n",
    "res = re.sub('[^А-Яа-я .!?-]+', '', res)\n",
    "res = re.sub(r'[!?\\.]([А-Я])', r'. \\1', res)\n",
    "\n",
    "tmp = nltk.sent_tokenize(res)\n",
    "lst = [el for el in tmp if el != '.']\n",
    "df = pd.DataFrame({'sentence':lst, 'author':'Гегель', 'number':5})\n",
    "data = data.append(df, ignore_index = True)"
   ]
  },
  {
   "cell_type": "code",
   "execution_count": 12,
   "metadata": {
    "collapsed": true
   },
   "outputs": [],
   "source": [
    "from nltk.tokenize import word_tokenize\n",
    "from nltk.corpus import stopwords\n",
    "\n",
    "def tokenize_sent(sent):\n",
    "    res = word_tokenize(sent.lower())\n",
    "    res = [el for el in res if (el.isalpha())]#) and (el not in stopwords.words('russian'))]\n",
    "    if (len(res) == 0) or ((len(res) == 1) and (len(res[0]) == 1)):\n",
    "        return -1 # удаляем предложения, в которых не осталось слов, и предложения, состоящие из 1 буквы.\n",
    "    else:\n",
    "        return res\n",
    "\n",
    "data['tokens'] = data['sentence'].apply(tokenize_sent)"
   ]
  },
  {
   "cell_type": "code",
   "execution_count": 13,
   "metadata": {
    "collapsed": true
   },
   "outputs": [],
   "source": [
    "data = data.loc[data['tokens'] != -1] #лучше возвращать null и делать .notnull(), как в Baseline."
   ]
  },
  {
   "cell_type": "code",
   "execution_count": 14,
   "metadata": {
    "collapsed": true
   },
   "outputs": [],
   "source": [
    "data['id'] = np.array(range(data.shape[0]))\n",
    "train = data[(data['author'] == 'Гоголь') & (data['number'].isin([2, 3, 4, 5])) | (data['author'] == 'Гегель') & (data['number'].isin([1, 3, 4, 5]))]\n",
    "test = data[(data['author'] == 'Гоголь') & (data['number'] == 1) | (data['author'] == 'Гегель') & (data['number'] == 2)]"
   ]
  },
  {
   "cell_type": "code",
   "execution_count": 15,
   "metadata": {
    "collapsed": true
   },
   "outputs": [],
   "source": [
    "train.to_csv('train.csv', encoding = 'utf-8', index = False)\n",
    "\n",
    "test.to_csv('test.csv', encoding = 'utf-8', index = False)"
   ]
  }
 ],
 "metadata": {
  "anaconda-cloud": {},
  "kernelspec": {
   "display_name": "Python [conda root]",
   "language": "python",
   "name": "conda-root-py"
  },
  "language_info": {
   "codemirror_mode": {
    "name": "ipython",
    "version": 3
   },
   "file_extension": ".py",
   "mimetype": "text/x-python",
   "name": "python",
   "nbconvert_exporter": "python",
   "pygments_lexer": "ipython3",
   "version": "3.5.2"
  }
 },
 "nbformat": 4,
 "nbformat_minor": 1
}
